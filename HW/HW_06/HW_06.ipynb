{
 "cells": [
  {
   "cell_type": "markdown",
   "metadata": {
    "colab_type": "text",
    "id": "V8FsvOED8UlF"
   },
   "source": [
    "# HW_06 : Нейросети в обработке текста. \n",
    "> Рекуррентные нейронные сети. LSTM. GRU.\n",
    "\n",
    "Провести сравнение RNN, LSTM, GRU на датасете отзывов (из предыдущих занятий/материалов)\n"
   ]
  },
  {
   "cell_type": "code",
   "execution_count": 29,
   "metadata": {},
   "outputs": [],
   "source": [
    "import warnings\n",
    "warnings.filterwarnings(\"ignore\")"
   ]
  },
  {
   "cell_type": "code",
   "execution_count": 30,
   "metadata": {},
   "outputs": [],
   "source": [
    "from sklearn.feature_extraction.text import CountVectorizer, TfidfVectorizer\n",
    "import pandas as pd\n",
    "import numpy as np\n",
    "import matplotlib.pyplot as plt\n",
    "\n",
    "from tqdm import tqdm\n",
    "tqdm.pandas()\n",
    "\n",
    "from sklearn.model_selection import train_test_split\n",
    "from sklearn.metrics import roc_auc_score\n",
    "\n",
    "DATA_PATH = '../data/отзывы за лето.xls'"
   ]
  },
  {
   "cell_type": "markdown",
   "metadata": {},
   "source": [
    "<b>Настройка GPU</b>"
   ]
  },
  {
   "cell_type": "code",
   "execution_count": 31,
   "metadata": {},
   "outputs": [
    {
     "data": {
      "text/plain": [
       "[PhysicalDevice(name='/physical_device:GPU:1', device_type='GPU')]"
      ]
     },
     "execution_count": 31,
     "metadata": {},
     "output_type": "execute_result"
    }
   ],
   "source": [
    "import tensorflow as tf\n",
    "# кастомные настройки\n",
    "# установка GPU на котором будем работать\n",
    "gpus = tf.config.experimental.list_physical_devices('GPU')\n",
    "tf.config.set_visible_devices(gpus[1], 'GPU')\n",
    "tf.config.get_visible_devices('GPU')"
   ]
  },
  {
   "cell_type": "code",
   "execution_count": null,
   "metadata": {},
   "outputs": [],
   "source": []
  },
  {
   "cell_type": "code",
   "execution_count": 32,
   "metadata": {},
   "outputs": [],
   "source": [
    "# глобальные переменнные для предобработки\n",
    "max_words = 2000\n",
    "max_len = 40"
   ]
  },
  {
   "cell_type": "code",
   "execution_count": 33,
   "metadata": {},
   "outputs": [
    {
     "data": {
      "text/html": [
       "<div>\n",
       "<style scoped>\n",
       "    .dataframe tbody tr th:only-of-type {\n",
       "        vertical-align: middle;\n",
       "    }\n",
       "\n",
       "    .dataframe tbody tr th {\n",
       "        vertical-align: top;\n",
       "    }\n",
       "\n",
       "    .dataframe thead th {\n",
       "        text-align: right;\n",
       "    }\n",
       "</style>\n",
       "<table border=\"1\" class=\"dataframe\">\n",
       "  <thead>\n",
       "    <tr style=\"text-align: right;\">\n",
       "      <th></th>\n",
       "      <th>Rating</th>\n",
       "      <th>Content</th>\n",
       "      <th>Date</th>\n",
       "    </tr>\n",
       "  </thead>\n",
       "  <tbody>\n",
       "    <tr>\n",
       "      <th>0</th>\n",
       "      <td>5</td>\n",
       "      <td>It just works!</td>\n",
       "      <td>2017-08-14</td>\n",
       "    </tr>\n",
       "    <tr>\n",
       "      <th>1</th>\n",
       "      <td>4</td>\n",
       "      <td>В целом удобноное приложение...из минусов хотя...</td>\n",
       "      <td>2017-08-14</td>\n",
       "    </tr>\n",
       "    <tr>\n",
       "      <th>2</th>\n",
       "      <td>5</td>\n",
       "      <td>Отлично все</td>\n",
       "      <td>2017-08-14</td>\n",
       "    </tr>\n",
       "    <tr>\n",
       "      <th>3</th>\n",
       "      <td>5</td>\n",
       "      <td>Стал зависать на 1% работы антивируса. Дальше ...</td>\n",
       "      <td>2017-08-14</td>\n",
       "    </tr>\n",
       "    <tr>\n",
       "      <th>4</th>\n",
       "      <td>5</td>\n",
       "      <td>Очень удобно, работает быстро.</td>\n",
       "      <td>2017-08-14</td>\n",
       "    </tr>\n",
       "  </tbody>\n",
       "</table>\n",
       "</div>"
      ],
      "text/plain": [
       "   Rating                                            Content       Date\n",
       "0       5                                     It just works! 2017-08-14\n",
       "1       4  В целом удобноное приложение...из минусов хотя... 2017-08-14\n",
       "2       5                                        Отлично все 2017-08-14\n",
       "3       5  Стал зависать на 1% работы антивируса. Дальше ... 2017-08-14\n",
       "4       5                     Очень удобно, работает быстро. 2017-08-14"
      ]
     },
     "execution_count": 33,
     "metadata": {},
     "output_type": "execute_result"
    }
   ],
   "source": [
    "df = pd.read_excel(DATA_PATH, parse_dates=[2])\n",
    "df.head()"
   ]
  },
  {
   "cell_type": "markdown",
   "metadata": {},
   "source": [
    "### Бинарная классификация"
   ]
  },
  {
   "cell_type": "code",
   "execution_count": 34,
   "metadata": {},
   "outputs": [],
   "source": [
    "df_bin = df[df['Rating']!=3]"
   ]
  },
  {
   "cell_type": "code",
   "execution_count": 35,
   "metadata": {},
   "outputs": [],
   "source": [
    "df_bin['Target'] = (df['Rating']>3).astype('uint8')"
   ]
  },
  {
   "cell_type": "code",
   "execution_count": 36,
   "metadata": {},
   "outputs": [
    {
     "data": {
      "text/plain": [
       "1    0.846871\n",
       "0    0.153129\n",
       "Name: Target, dtype: float64"
      ]
     },
     "execution_count": 36,
     "metadata": {},
     "output_type": "execute_result"
    }
   ],
   "source": [
    "# распределение не очень, но рабочее\n",
    "df_bin.Target.value_counts(normalize=True)"
   ]
  },
  {
   "cell_type": "markdown",
   "metadata": {},
   "source": [
    "#### Препроцессинг"
   ]
  },
  {
   "cell_type": "code",
   "execution_count": 37,
   "metadata": {},
   "outputs": [],
   "source": [
    "from string import punctuation\n",
    "from stop_words import get_stop_words\n",
    "from pymorphy2 import MorphAnalyzer\n",
    "import re\n",
    "\n",
    "import nltk\n",
    "from nltk.tokenize import word_tokenize\n",
    "from nltk.probability import FreqDist"
   ]
  },
  {
   "cell_type": "code",
   "execution_count": 38,
   "metadata": {},
   "outputs": [],
   "source": [
    "sw = set(get_stop_words(\"ru\"))\n",
    "exclude = set(punctuation)\n",
    "morpher = MorphAnalyzer()\n",
    "\n",
    "def preprocess_text(txt):\n",
    "    txt = str(txt)\n",
    "    txt = \"\".join(c for c in txt if c not in exclude)\n",
    "    txt = txt.lower()\n",
    "    txt = re.sub(\"\\sне\", \"не\", txt)\n",
    "    txt = [morpher.parse(word)[0].normal_form for word in txt.split() if word not in sw]\n",
    "    return \" \".join(txt)\n",
    "\n",
    "df_bin['Content'] = df_bin['Content'].apply(preprocess_text)"
   ]
  },
  {
   "cell_type": "code",
   "execution_count": 39,
   "metadata": {},
   "outputs": [],
   "source": [
    "# разобьем датасет на трайн-валид-тест 70-15-15\n",
    "train, test = train_test_split(df_bin, test_size=0.7, shuffle=True, stratify = df_bin['Target'], random_state=42)\n",
    "valid, test = train_test_split(test, test_size=0.5, shuffle=True, random_state=42)"
   ]
  },
  {
   "cell_type": "code",
   "execution_count": 40,
   "metadata": {},
   "outputs": [],
   "source": [
    "train_corpus = \" \".join(train[\"Content\"])\n",
    "train_corpus = train_corpus.lower()"
   ]
  },
  {
   "cell_type": "code",
   "execution_count": 41,
   "metadata": {},
   "outputs": [],
   "source": [
    "tokens = word_tokenize(train_corpus)\n",
    "tokens_filtered = [word for word in tokens if word.isalnum()]"
   ]
  },
  {
   "cell_type": "code",
   "execution_count": 42,
   "metadata": {},
   "outputs": [],
   "source": [
    "# наиболее часто встречающиеся токены\n",
    "dist = FreqDist(tokens_filtered)\n",
    "tokens_filtered_top = [pair[0] for pair in dist.most_common(max_words-1)]"
   ]
  },
  {
   "cell_type": "code",
   "execution_count": 43,
   "metadata": {},
   "outputs": [],
   "source": [
    "vocabulary = {v: k for k, v in dict(enumerate(tokens_filtered_top, 1)).items()}"
   ]
  },
  {
   "cell_type": "code",
   "execution_count": 44,
   "metadata": {},
   "outputs": [],
   "source": [
    "def text_to_sequence(text, maxlen):\n",
    "    result = []\n",
    "    tokens = word_tokenize(text.lower())\n",
    "    tokens_filtered = [word for word in tokens if word.isalnum()]\n",
    "    for word in tokens_filtered:\n",
    "        if word in vocabulary:\n",
    "            result.append(vocabulary[word])\n",
    "    padding = [0]*(maxlen-len(result))\n",
    "    return padding + result[-maxlen:]"
   ]
  },
  {
   "cell_type": "code",
   "execution_count": 45,
   "metadata": {},
   "outputs": [],
   "source": [
    "x_train = np.asarray([text_to_sequence(text, max_len) for text in train[\"Content\"]], dtype=np.int32)\n",
    "x_test = np.asarray([text_to_sequence(text, max_len) for text in test[\"Content\"]], dtype=np.int32)\n",
    "x_valid = np.asarray([text_to_sequence(text, max_len) for text in valid[\"Content\"]], dtype=np.int32)"
   ]
  },
  {
   "cell_type": "code",
   "execution_count": 46,
   "metadata": {},
   "outputs": [],
   "source": [
    "y_train = train[\"Target\"]\n",
    "y_test = test[\"Target\"]\n",
    "y_valid = valid[\"Target\"]"
   ]
  },
  {
   "cell_type": "code",
   "execution_count": 47,
   "metadata": {},
   "outputs": [
    {
     "data": {
      "text/plain": [
       "array([  0,   0,   0,   0,   0,   0,   0,   0,   0,   0,   0,   0,   0,\n",
       "         0,   0,   0,   0,   0,   0,   0,   0,   0,   0,   0,   0,   0,\n",
       "         0,   0,   0,   0,   0,   0,   0, 648,  19, 122, 190, 959, 959,\n",
       "       959], dtype=int32)"
      ]
     },
     "execution_count": 47,
     "metadata": {},
     "output_type": "execute_result"
    }
   ],
   "source": [
    "x_train[5]"
   ]
  },
  {
   "cell_type": "markdown",
   "metadata": {},
   "source": [
    "### Модели"
   ]
  },
  {
   "cell_type": "code",
   "execution_count": 48,
   "metadata": {},
   "outputs": [],
   "source": [
    "import tensorflow as tf\n",
    "import tensorflow.keras as k\n",
    "from tensorflow.keras.models import Sequential, Model\n",
    "from tensorflow.keras.layers import Dense, Dropout, Activation, Input, Embedding, Conv1D, GlobalMaxPool1D, SimpleRNN , LSTM, GRU, Masking\n",
    "from tensorflow.keras.preprocessing.text import Tokenizer\n",
    "from tensorflow.keras.preprocessing.sequence import pad_sequences\n",
    "from tensorflow.keras.callbacks import TensorBoard \n",
    "from tensorflow.keras.losses import binary_crossentropy, categorical_crossentropy\n",
    "from tensorflow.keras.callbacks import EarlyStopping "
   ]
  },
  {
   "cell_type": "code",
   "execution_count": 49,
   "metadata": {},
   "outputs": [],
   "source": [
    "epochs = 50\n",
    "batch_size = 512"
   ]
  },
  {
   "cell_type": "code",
   "execution_count": 50,
   "metadata": {},
   "outputs": [],
   "source": [
    "rnn_type = ['R', 'L', 'G']"
   ]
  },
  {
   "cell_type": "code",
   "execution_count": 51,
   "metadata": {},
   "outputs": [],
   "source": [
    "def plot_metrics(history):\n",
    "    \n",
    "    acc = history.history['accuracy']\n",
    "    val_acc = history.history['val_accuracy']\n",
    "    loss = history.history['loss']\n",
    "    val_loss = history.history['val_loss']\n",
    "\n",
    "    epochs = range(len(acc))\n",
    "\n",
    "    plt.plot(epochs, acc, 'b', label='Training acc')\n",
    "    plt.plot(epochs, val_acc, 'r', label='Validation acc')\n",
    "    plt.title('Training and validation accuracy')\n",
    "    plt.legend()\n",
    "\n",
    "    plt.figure()\n",
    "\n",
    "    plt.plot(epochs, loss, 'b', label='Training loss')\n",
    "    plt.plot(epochs, val_loss, 'r', label='Validation loss')\n",
    "    plt.title('Training and validation loss')\n",
    "    plt.legend()\n",
    "\n",
    "    plt.show()"
   ]
  },
  {
   "cell_type": "code",
   "execution_count": 52,
   "metadata": {},
   "outputs": [],
   "source": [
    "def make_rnn_layer(param):\n",
    "    if param == 'R':\n",
    "        layer = SimpleRNN(128)\n",
    "        print('\\n=== SimpleRNN ===\\n')\n",
    "    elif param == 'L':\n",
    "        layer = LSTM(128, recurrent_dropout=0.4)\n",
    "        print('\\n=== LSTM ===\\n')\n",
    "    elif param == 'G':\n",
    "        layer = GRU(128, recurrent_dropout=0.4)\n",
    "        print('\\n=== GRU ===\\n')    \n",
    "    else:\n",
    "        raise Exception('make_layer(param) -> param have to be in(\"R\", \"L\", \"G\")')\n",
    "    return layer "
   ]
  },
  {
   "cell_type": "code",
   "execution_count": 53,
   "metadata": {},
   "outputs": [],
   "source": [
    "def make_model(param : str) -> object:\n",
    "    model = Sequential()\n",
    "    model.add(Embedding(input_dim=max_words, output_dim=max_len, input_length=max_len, trainable=True, mask_zero=True))\n",
    "    model.add(Masking(mask_value=0.0))\n",
    "    model.add(make_rnn_layer(param))\n",
    "    model.add(Dense(128))\n",
    "    model.add(Activation(\"relu\"))\n",
    "    model.add(Dropout(0.4))\n",
    "    model.add(Dense(1))\n",
    "    model.add(Activation('sigmoid'))\n",
    "    \n",
    "    model.compile(loss='binary_crossentropy',\n",
    "              optimizer='adam',\n",
    "              metrics=['accuracy'])\n",
    "    return model"
   ]
  },
  {
   "cell_type": "code",
   "execution_count": 54,
   "metadata": {},
   "outputs": [],
   "source": [
    "def fit_model(model):\n",
    "    if not model:\n",
    "        return\n",
    "    model.summary()\n",
    "    \n",
    "    tensorboard=TensorBoard(log_dir='./logs', write_graph=True, write_images=True)\n",
    "    early_stopping=EarlyStopping(monitor='val_loss', patience=3, restore_best_weights = True)  \n",
    "\n",
    "    history = model.fit(x_train, y_train,\n",
    "                        batch_size=batch_size,\n",
    "                        epochs=epochs,\n",
    "                        verbose=1,\n",
    "                        validation_split=0.1,\n",
    "                        callbacks=[tensorboard, early_stopping])\n",
    "    return history\n",
    "    "
   ]
  },
  {
   "cell_type": "code",
   "execution_count": 55,
   "metadata": {},
   "outputs": [],
   "source": [
    "def test_model(model):\n",
    "    \n",
    "    score = model.evaluate(x_valid, y_valid, batch_size=batch_size, verbose=1)\n",
    "    print('\\n')\n",
    "    print('Validation loss:', score[0])\n",
    "    print('Validation accuracy:', score[1])\n",
    "    \n",
    "    results = model.predict(x_test, batch_size=batch_size, verbose=1)\n",
    "    print(f'Test ROC-AUC: {round(roc_auc_score(y_test, results),3)}')\n",
    "    print('\\n'*3)\n",
    "    print('=='*30)"
   ]
  },
  {
   "cell_type": "code",
   "execution_count": 56,
   "metadata": {},
   "outputs": [
    {
     "name": "stdout",
     "output_type": "stream",
     "text": [
      "\n",
      "=== SimpleRNN ===\n",
      "\n",
      "Model: \"sequential_3\"\n",
      "_________________________________________________________________\n",
      "Layer (type)                 Output Shape              Param #   \n",
      "=================================================================\n",
      "embedding_3 (Embedding)      (None, 40, 40)            80000     \n",
      "_________________________________________________________________\n",
      "masking_3 (Masking)          (None, 40, 40)            0         \n",
      "_________________________________________________________________\n",
      "simple_rnn_1 (SimpleRNN)     (None, 128)               21632     \n",
      "_________________________________________________________________\n",
      "dense_6 (Dense)              (None, 128)               16512     \n",
      "_________________________________________________________________\n",
      "activation_6 (Activation)    (None, 128)               0         \n",
      "_________________________________________________________________\n",
      "dropout_3 (Dropout)          (None, 128)               0         \n",
      "_________________________________________________________________\n",
      "dense_7 (Dense)              (None, 1)                 129       \n",
      "_________________________________________________________________\n",
      "activation_7 (Activation)    (None, 1)                 0         \n",
      "=================================================================\n",
      "Total params: 118,273\n",
      "Trainable params: 118,273\n",
      "Non-trainable params: 0\n",
      "_________________________________________________________________\n",
      "Epoch 1/50\n",
      " 2/11 [====>.........................] - ETA: 3s - loss: 0.6370 - accuracy: 0.6436WARNING:tensorflow:Callbacks method `on_train_batch_end` is slow compared to the batch time (batch time: 0.0281s vs `on_train_batch_end` time: 0.8273s). Check your callbacks.\n",
      "11/11 [==============================] - 1s 114ms/step - loss: 0.4782 - accuracy: 0.8066 - val_loss: 0.3697 - val_accuracy: 0.8668\n",
      "Epoch 2/50\n",
      "11/11 [==============================] - 0s 24ms/step - loss: 0.4017 - accuracy: 0.8104 - val_loss: 0.5010 - val_accuracy: 0.8668\n",
      "Epoch 3/50\n",
      "11/11 [==============================] - 0s 23ms/step - loss: 0.5155 - accuracy: 0.8447 - val_loss: 0.4080 - val_accuracy: 0.8668\n",
      "Epoch 4/50\n",
      "11/11 [==============================] - 0s 23ms/step - loss: 0.4265 - accuracy: 0.8445 - val_loss: 0.3646 - val_accuracy: 0.8668\n",
      "Epoch 5/50\n",
      "11/11 [==============================] - 0s 23ms/step - loss: 0.3764 - accuracy: 0.8460 - val_loss: 0.3207 - val_accuracy: 0.8668\n",
      "Epoch 6/50\n",
      "11/11 [==============================] - 0s 24ms/step - loss: 0.2849 - accuracy: 0.8860 - val_loss: 0.2895 - val_accuracy: 0.8735\n",
      "Epoch 7/50\n",
      "11/11 [==============================] - 0s 23ms/step - loss: 0.2473 - accuracy: 0.9026 - val_loss: 0.2531 - val_accuracy: 0.8954\n",
      "Epoch 8/50\n",
      "11/11 [==============================] - 0s 23ms/step - loss: 0.2069 - accuracy: 0.9268 - val_loss: 0.2392 - val_accuracy: 0.9005\n",
      "Epoch 9/50\n",
      "11/11 [==============================] - 0s 23ms/step - loss: 0.1788 - accuracy: 0.9362 - val_loss: 0.2357 - val_accuracy: 0.9022\n",
      "Epoch 10/50\n",
      "11/11 [==============================] - 0s 23ms/step - loss: 0.1515 - accuracy: 0.9477 - val_loss: 0.2422 - val_accuracy: 0.9022\n",
      "Epoch 11/50\n",
      "11/11 [==============================] - 0s 23ms/step - loss: 0.1344 - accuracy: 0.9550 - val_loss: 0.2360 - val_accuracy: 0.8971\n",
      "Epoch 12/50\n",
      "11/11 [==============================] - 0s 23ms/step - loss: 0.1148 - accuracy: 0.9627 - val_loss: 0.2364 - val_accuracy: 0.9022\n"
     ]
    },
    {
     "data": {
      "image/png": "[encoded data removed]",
      "text/plain": [
       "<Figure size 432x288 with 1 Axes>"
      ]
     },
     "metadata": {
      "needs_background": "light"
     },
     "output_type": "display_data"
    },
    {
     "data": {
      "image/png": "[encoded data removed]",
      "text/plain": [
       "<Figure size 432x288 with 1 Axes>"
      ]
     },
     "metadata": {
      "needs_background": "light"
     },
     "output_type": "display_data"
    },
    {
     "name": "stdout",
     "output_type": "stream",
     "text": [
      "14/14 [==============================] - 0s 4ms/step - loss: 0.2416 - accuracy: 0.9018\n",
      "\n",
      "\n",
      "Validation loss: 0.24156147241592407\n",
      "Validation accuracy: 0.9017650485038757\n",
      "14/14 [==============================] - 0s 3ms/step\n",
      "Test ROC-AUC: 0.938\n",
      "\n",
      "\n",
      "\n",
      "\n",
      "============================================================\n",
      "WARNING:tensorflow:Layer lstm_1 will not use cuDNN kernel since it doesn't meet the cuDNN kernel criteria. It will use generic GPU kernel as fallback when running on GPU\n",
      "\n",
      "=== LSTM ===\n",
      "\n",
      "Model: \"sequential_4\"\n",
      "_________________________________________________________________\n",
      "Layer (type)                 Output Shape              Param #   \n",
      "=================================================================\n",
      "embedding_4 (Embedding)      (None, 40, 40)            80000     \n",
      "_________________________________________________________________\n",
      "masking_4 (Masking)          (None, 40, 40)            0         \n",
      "_________________________________________________________________\n",
      "lstm_1 (LSTM)                (None, 128)               86528     \n",
      "_________________________________________________________________\n",
      "dense_8 (Dense)              (None, 128)               16512     \n",
      "_________________________________________________________________\n",
      "activation_8 (Activation)    (None, 128)               0         \n",
      "_________________________________________________________________\n",
      "dropout_4 (Dropout)          (None, 128)               0         \n",
      "_________________________________________________________________\n",
      "dense_9 (Dense)              (None, 1)                 129       \n",
      "_________________________________________________________________\n",
      "activation_9 (Activation)    (None, 1)                 0         \n",
      "=================================================================\n",
      "Total params: 183,169\n",
      "Trainable params: 183,169\n",
      "Non-trainable params: 0\n",
      "_________________________________________________________________\n",
      "Epoch 1/50\n",
      " 2/11 [====>.........................] - ETA: 5s - loss: 0.6854 - accuracy: 0.7432WARNING:tensorflow:Callbacks method `on_train_batch_end` is slow compared to the batch time (batch time: 0.0953s vs `on_train_batch_end` time: 1.1770s). Check your callbacks.\n",
      "11/11 [==============================] - 2s 205ms/step - loss: 0.5697 - accuracy: 0.8263 - val_loss: 0.3851 - val_accuracy: 0.8668\n",
      "Epoch 2/50\n",
      "11/11 [==============================] - 1s 71ms/step - loss: 0.3883 - accuracy: 0.8447 - val_loss: 0.3411 - val_accuracy: 0.8668\n",
      "Epoch 3/50\n",
      "11/11 [==============================] - 1s 72ms/step - loss: 0.3375 - accuracy: 0.8464 - val_loss: 0.3003 - val_accuracy: 0.8702\n",
      "Epoch 4/50\n",
      "11/11 [==============================] - 1s 72ms/step - loss: 0.2843 - accuracy: 0.8865 - val_loss: 0.2668 - val_accuracy: 0.8786\n",
      "Epoch 5/50\n",
      "11/11 [==============================] - 1s 73ms/step - loss: 0.2480 - accuracy: 0.9017 - val_loss: 0.2412 - val_accuracy: 0.8921\n",
      "Epoch 6/50\n",
      "11/11 [==============================] - 1s 72ms/step - loss: 0.2093 - accuracy: 0.9197 - val_loss: 0.2273 - val_accuracy: 0.8938\n",
      "Epoch 7/50\n",
      "11/11 [==============================] - 1s 72ms/step - loss: 0.1755 - accuracy: 0.9327 - val_loss: 0.2182 - val_accuracy: 0.8954\n",
      "Epoch 8/50\n",
      "11/11 [==============================] - 1s 72ms/step - loss: 0.1495 - accuracy: 0.9418 - val_loss: 0.2174 - val_accuracy: 0.9056\n",
      "Epoch 9/50\n",
      "11/11 [==============================] - 1s 72ms/step - loss: 0.1307 - accuracy: 0.9516 - val_loss: 0.2206 - val_accuracy: 0.9039\n",
      "Epoch 10/50\n",
      "11/11 [==============================] - 1s 72ms/step - loss: 0.1114 - accuracy: 0.9617 - val_loss: 0.2332 - val_accuracy: 0.9073\n",
      "Epoch 11/50\n",
      "11/11 [==============================] - 1s 72ms/step - loss: 0.0978 - accuracy: 0.9672 - val_loss: 0.2413 - val_accuracy: 0.9073\n"
     ]
    },
    {
     "data": {
      "image/png": "[encoded data removed]",
      "text/plain": [
       "<Figure size 432x288 with 1 Axes>"
      ]
     },
     "metadata": {
      "needs_background": "light"
     },
     "output_type": "display_data"
    },
    {
     "data": {
      "image/png": "[encoded data removed]",
      "text/plain": [
       "<Figure size 432x288 with 1 Axes>"
      ]
     },
     "metadata": {
      "needs_background": "light"
     },
     "output_type": "display_data"
    },
    {
     "name": "stdout",
     "output_type": "stream",
     "text": [
      "14/14 [==============================] - 0s 10ms/step - loss: 0.2347 - accuracy: 0.9015\n",
      "\n",
      "\n",
      "Validation loss: 0.23467673361301422\n",
      "Validation accuracy: 0.9014756679534912\n",
      "14/14 [==============================] - 0s 10ms/step\n",
      "Test ROC-AUC: 0.943\n",
      "\n",
      "\n",
      "\n",
      "\n",
      "============================================================\n",
      "WARNING:tensorflow:Layer gru_1 will not use cuDNN kernel since it doesn't meet the cuDNN kernel criteria. It will use generic GPU kernel as fallback when running on GPU\n",
      "\n",
      "=== GRU ===\n",
      "\n",
      "Model: \"sequential_5\"\n",
      "_________________________________________________________________\n",
      "Layer (type)                 Output Shape              Param #   \n",
      "=================================================================\n",
      "embedding_5 (Embedding)      (None, 40, 40)            80000     \n",
      "_________________________________________________________________\n",
      "masking_5 (Masking)          (None, 40, 40)            0         \n",
      "_________________________________________________________________\n",
      "gru_1 (GRU)                  (None, 128)               65280     \n",
      "_________________________________________________________________\n",
      "dense_10 (Dense)             (None, 128)               16512     \n",
      "_________________________________________________________________\n",
      "activation_10 (Activation)   (None, 128)               0         \n",
      "_________________________________________________________________\n",
      "dropout_5 (Dropout)          (None, 128)               0         \n",
      "_________________________________________________________________\n",
      "dense_11 (Dense)             (None, 1)                 129       \n",
      "_________________________________________________________________\n",
      "activation_11 (Activation)   (None, 1)                 0         \n",
      "=================================================================\n",
      "Total params: 161,921\n",
      "Trainable params: 161,921\n",
      "Non-trainable params: 0\n",
      "_________________________________________________________________\n",
      "Epoch 1/50\n",
      " 2/11 [====>.........................] - ETA: 4s - loss: 0.6877 - accuracy: 0.6475WARNING:tensorflow:Callbacks method `on_train_batch_end` is slow compared to the batch time (batch time: 0.0881s vs `on_train_batch_end` time: 0.9835s). Check your callbacks.\n",
      "11/11 [==============================] - 2s 180ms/step - loss: 0.6109 - accuracy: 0.8094 - val_loss: 0.4036 - val_accuracy: 0.8668\n",
      "Epoch 2/50\n",
      "11/11 [==============================] - 1s 63ms/step - loss: 0.3802 - accuracy: 0.8447 - val_loss: 0.3307 - val_accuracy: 0.8668\n",
      "Epoch 3/50\n",
      "11/11 [==============================] - 1s 64ms/step - loss: 0.3144 - accuracy: 0.8449 - val_loss: 0.2787 - val_accuracy: 0.8651\n",
      "Epoch 4/50\n",
      "11/11 [==============================] - 1s 64ms/step - loss: 0.2486 - accuracy: 0.8920 - val_loss: 0.2440 - val_accuracy: 0.8870\n",
      "Epoch 5/50\n",
      "11/11 [==============================] - 1s 64ms/step - loss: 0.2025 - accuracy: 0.9250 - val_loss: 0.2428 - val_accuracy: 0.8870\n",
      "Epoch 6/50\n",
      "11/11 [==============================] - 1s 64ms/step - loss: 0.1687 - accuracy: 0.9372 - val_loss: 0.2346 - val_accuracy: 0.9039\n",
      "Epoch 7/50\n",
      "11/11 [==============================] - 1s 64ms/step - loss: 0.1451 - accuracy: 0.9475 - val_loss: 0.2304 - val_accuracy: 0.9056\n",
      "Epoch 8/50\n",
      "11/11 [==============================] - 1s 63ms/step - loss: 0.1245 - accuracy: 0.9597 - val_loss: 0.2460 - val_accuracy: 0.9056\n",
      "Epoch 9/50\n",
      "11/11 [==============================] - 1s 64ms/step - loss: 0.1069 - accuracy: 0.9657 - val_loss: 0.2633 - val_accuracy: 0.9089\n",
      "Epoch 10/50\n",
      "11/11 [==============================] - 1s 64ms/step - loss: 0.0895 - accuracy: 0.9724 - val_loss: 0.2838 - val_accuracy: 0.9073\n"
     ]
    },
    {
     "data": {
      "image/png": "[encoded data removed]",
      "text/plain": [
       "<Figure size 432x288 with 1 Axes>"
      ]
     },
     "metadata": {
      "needs_background": "light"
     },
     "output_type": "display_data"
    },
    {
     "data": {
      "image/png": "[encoded data removed]",
      "text/plain": [
       "<Figure size 432x288 with 1 Axes>"
      ]
     },
     "metadata": {
      "needs_background": "light"
     },
     "output_type": "display_data"
    },
    {
     "name": "stdout",
     "output_type": "stream",
     "text": [
      "14/14 [==============================] - 0s 8ms/step - loss: 0.2531 - accuracy: 0.8935\n",
      "\n",
      "\n",
      "Validation loss: 0.2530638575553894\n",
      "Validation accuracy: 0.8935185074806213\n",
      "14/14 [==============================] - 0s 8ms/step\n",
      "Test ROC-AUC: 0.936\n",
      "\n",
      "\n",
      "\n",
      "\n",
      "============================================================\n"
     ]
    }
   ],
   "source": [
    "for param in rnn_type:\n",
    "    model = make_model(param)\n",
    "    hist = fit_model(model)\n",
    "    plot_metrics(hist)\n",
    "    test_model(model)"
   ]
  },
  {
   "cell_type": "markdown",
   "metadata": {},
   "source": [
    "### Выводы"
   ]
  },
  {
   "cell_type": "markdown",
   "metadata": {},
   "source": [
    "Лучший результат показал LSTM, 2 место досталось SimpleRNN и на последнем GRU - при одинаковых параметрах сети. Стоит отметить что даже лучший результат LSTM оказался ниже чем результат CNN сети из прошлой темы.\n",
    "\n",
    "Видимо для каждой сети нужно подбирать индивидуальные настройки и конфигурацию."
   ]
  },
  {
   "cell_type": "code",
   "execution_count": null,
   "metadata": {},
   "outputs": [],
   "source": []
  }
 ],
 "metadata": {
  "kernelspec": {
   "display_name": "Python 3",
   "language": "python",
   "name": "python3"
  },
  "language_info": {
   "codemirror_mode": {
    "name": "ipython",
    "version": 3
   },
   "file_extension": ".py",
   "mimetype": "text/x-python",
   "name": "python",
   "nbconvert_exporter": "python",
   "pygments_lexer": "ipython3",
   "version": "3.8.2"
  }
 },
 "nbformat": 4,
 "nbformat_minor": 4
}
