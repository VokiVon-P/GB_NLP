{
 "cells": [
  {
   "cell_type": "markdown",
   "metadata": {
    "colab_type": "text",
    "id": "V8FsvOED8UlF"
   },
   "source": [
    "# HW_06 : Нейросети в обработке текста. \n",
    "> Рекуррентные нейронные сети. LSTM. GRU.\n",
    "\n",
    "Провести сравнение RNN, LSTM, GRU на датасете отзывов (из предыдущих занятий/материалов)\n"
   ]
  },
  {
   "cell_type": "code",
   "execution_count": 57,
   "metadata": {},
   "outputs": [],
   "source": [
    "import warnings\n",
    "warnings.filterwarnings(\"ignore\")"
   ]
  },
  {
   "cell_type": "code",
   "execution_count": 58,
   "metadata": {},
   "outputs": [],
   "source": [
    "from sklearn.feature_extraction.text import CountVectorizer, TfidfVectorizer\n",
    "import pandas as pd\n",
    "import numpy as np\n",
    "import matplotlib.pyplot as plt\n",
    "\n",
    "from tqdm import tqdm\n",
    "tqdm.pandas()\n",
    "\n",
    "from sklearn.model_selection import train_test_split\n",
    "from sklearn.metrics import roc_auc_score\n",
    "\n",
    "DATA_PATH = '../data/отзывы за лето.xls'"
   ]
  },
  {
   "cell_type": "markdown",
   "metadata": {},
   "source": [
    "<b>Настройка GPU</b>"
   ]
  },
  {
   "cell_type": "code",
   "execution_count": 59,
   "metadata": {},
   "outputs": [
    {
     "data": {
      "text/plain": [
       "[PhysicalDevice(name='/physical_device:GPU:1', device_type='GPU')]"
      ]
     },
     "execution_count": 59,
     "metadata": {},
     "output_type": "execute_result"
    }
   ],
   "source": [
    "import tensorflow as tf\n",
    "# кастомные настройки\n",
    "# установка GPU на котором будем работать\n",
    "gpus = tf.config.experimental.list_physical_devices('GPU')\n",
    "tf.config.set_visible_devices(gpus[1], 'GPU')\n",
    "tf.config.get_visible_devices('GPU')"
   ]
  },
  {
   "cell_type": "code",
   "execution_count": null,
   "metadata": {},
   "outputs": [],
   "source": []
  },
  {
   "cell_type": "code",
   "execution_count": 60,
   "metadata": {},
   "outputs": [],
   "source": [
    "# глобальные переменнные для предобработки\n",
    "max_words = 2000\n",
    "max_len = 40"
   ]
  },
  {
   "cell_type": "code",
   "execution_count": 61,
   "metadata": {},
   "outputs": [
    {
     "data": {
      "text/html": [
       "<div>\n",
       "<style scoped>\n",
       "    .dataframe tbody tr th:only-of-type {\n",
       "        vertical-align: middle;\n",
       "    }\n",
       "\n",
       "    .dataframe tbody tr th {\n",
       "        vertical-align: top;\n",
       "    }\n",
       "\n",
       "    .dataframe thead th {\n",
       "        text-align: right;\n",
       "    }\n",
       "</style>\n",
       "<table border=\"1\" class=\"dataframe\">\n",
       "  <thead>\n",
       "    <tr style=\"text-align: right;\">\n",
       "      <th></th>\n",
       "      <th>Rating</th>\n",
       "      <th>Content</th>\n",
       "      <th>Date</th>\n",
       "    </tr>\n",
       "  </thead>\n",
       "  <tbody>\n",
       "    <tr>\n",
       "      <th>0</th>\n",
       "      <td>5</td>\n",
       "      <td>It just works!</td>\n",
       "      <td>2017-08-14</td>\n",
       "    </tr>\n",
       "    <tr>\n",
       "      <th>1</th>\n",
       "      <td>4</td>\n",
       "      <td>В целом удобноное приложение...из минусов хотя...</td>\n",
       "      <td>2017-08-14</td>\n",
       "    </tr>\n",
       "    <tr>\n",
       "      <th>2</th>\n",
       "      <td>5</td>\n",
       "      <td>Отлично все</td>\n",
       "      <td>2017-08-14</td>\n",
       "    </tr>\n",
       "    <tr>\n",
       "      <th>3</th>\n",
       "      <td>5</td>\n",
       "      <td>Стал зависать на 1% работы антивируса. Дальше ...</td>\n",
       "      <td>2017-08-14</td>\n",
       "    </tr>\n",
       "    <tr>\n",
       "      <th>4</th>\n",
       "      <td>5</td>\n",
       "      <td>Очень удобно, работает быстро.</td>\n",
       "      <td>2017-08-14</td>\n",
       "    </tr>\n",
       "  </tbody>\n",
       "</table>\n",
       "</div>"
      ],
      "text/plain": [
       "   Rating                                            Content       Date\n",
       "0       5                                     It just works! 2017-08-14\n",
       "1       4  В целом удобноное приложение...из минусов хотя... 2017-08-14\n",
       "2       5                                        Отлично все 2017-08-14\n",
       "3       5  Стал зависать на 1% работы антивируса. Дальше ... 2017-08-14\n",
       "4       5                     Очень удобно, работает быстро. 2017-08-14"
      ]
     },
     "execution_count": 61,
     "metadata": {},
     "output_type": "execute_result"
    }
   ],
   "source": [
    "df = pd.read_excel(DATA_PATH, parse_dates=[2])\n",
    "df.head()"
   ]
  },
  {
   "cell_type": "markdown",
   "metadata": {},
   "source": [
    "### Бинарная классификация"
   ]
  },
  {
   "cell_type": "code",
   "execution_count": 62,
   "metadata": {},
   "outputs": [],
   "source": [
    "df_bin = df[df['Rating']!=3]"
   ]
  },
  {
   "cell_type": "code",
   "execution_count": 63,
   "metadata": {},
   "outputs": [],
   "source": [
    "df_bin['Target'] = (df['Rating']>3).astype('uint8')"
   ]
  },
  {
   "cell_type": "code",
   "execution_count": 64,
   "metadata": {},
   "outputs": [
    {
     "data": {
      "text/plain": [
       "1    0.846871\n",
       "0    0.153129\n",
       "Name: Target, dtype: float64"
      ]
     },
     "execution_count": 64,
     "metadata": {},
     "output_type": "execute_result"
    }
   ],
   "source": [
    "# распределение не очень, но рабочее\n",
    "df_bin.Target.value_counts(normalize=True)"
   ]
  },
  {
   "cell_type": "markdown",
   "metadata": {},
   "source": [
    "#### Препроцессинг"
   ]
  },
  {
   "cell_type": "code",
   "execution_count": 65,
   "metadata": {},
   "outputs": [],
   "source": [
    "from string import punctuation\n",
    "from stop_words import get_stop_words\n",
    "from pymorphy2 import MorphAnalyzer\n",
    "import re\n",
    "\n",
    "import nltk\n",
    "from nltk.tokenize import word_tokenize\n",
    "from nltk.probability import FreqDist"
   ]
  },
  {
   "cell_type": "code",
   "execution_count": 66,
   "metadata": {},
   "outputs": [],
   "source": [
    "sw = set(get_stop_words(\"ru\"))\n",
    "exclude = set(punctuation)\n",
    "morpher = MorphAnalyzer()\n",
    "\n",
    "def preprocess_text(txt):\n",
    "    txt = str(txt)\n",
    "    txt = \"\".join(c for c in txt if c not in exclude)\n",
    "    txt = txt.lower()\n",
    "    txt = re.sub(\"\\sне\", \"не\", txt)\n",
    "    txt = [morpher.parse(word)[0].normal_form for word in txt.split() if word not in sw]\n",
    "    return \" \".join(txt)\n",
    "\n",
    "df_bin['Content'] = df_bin['Content'].apply(preprocess_text)"
   ]
  },
  {
   "cell_type": "code",
   "execution_count": 67,
   "metadata": {},
   "outputs": [],
   "source": [
    "# разобьем датасет на трайн-валид-тест 70-15-15\n",
    "train, test = train_test_split(df_bin, test_size=0.7, shuffle=True, stratify = df_bin['Target'], random_state=42)\n",
    "valid, test = train_test_split(test, test_size=0.5, shuffle=True, random_state=42)"
   ]
  },
  {
   "cell_type": "code",
   "execution_count": 68,
   "metadata": {},
   "outputs": [],
   "source": [
    "train_corpus = \" \".join(train[\"Content\"])\n",
    "train_corpus = train_corpus.lower()"
   ]
  },
  {
   "cell_type": "code",
   "execution_count": 69,
   "metadata": {},
   "outputs": [],
   "source": [
    "tokens = word_tokenize(train_corpus)\n",
    "tokens_filtered = [word for word in tokens if word.isalnum()]"
   ]
  },
  {
   "cell_type": "code",
   "execution_count": 70,
   "metadata": {},
   "outputs": [],
   "source": [
    "# наиболее часто встречающиеся токены\n",
    "dist = FreqDist(tokens_filtered)\n",
    "tokens_filtered_top = [pair[0] for pair in dist.most_common(max_words-1)]"
   ]
  },
  {
   "cell_type": "code",
   "execution_count": 71,
   "metadata": {},
   "outputs": [],
   "source": [
    "vocabulary = {v: k for k, v in dict(enumerate(tokens_filtered_top, 1)).items()}"
   ]
  },
  {
   "cell_type": "code",
   "execution_count": 72,
   "metadata": {},
   "outputs": [],
   "source": [
    "def text_to_sequence(text, maxlen):\n",
    "    result = []\n",
    "    tokens = word_tokenize(text.lower())\n",
    "    tokens_filtered = [word for word in tokens if word.isalnum()]\n",
    "    for word in tokens_filtered:\n",
    "        if word in vocabulary:\n",
    "            result.append(vocabulary[word])\n",
    "    padding = [0]*(maxlen-len(result))\n",
    "    return padding + result[-maxlen:]"
   ]
  },
  {
   "cell_type": "code",
   "execution_count": 73,
   "metadata": {},
   "outputs": [],
   "source": [
    "x_train = np.asarray([text_to_sequence(text, max_len) for text in train[\"Content\"]], dtype=np.int32)\n",
    "x_test = np.asarray([text_to_sequence(text, max_len) for text in test[\"Content\"]], dtype=np.int32)\n",
    "x_valid = np.asarray([text_to_sequence(text, max_len) for text in valid[\"Content\"]], dtype=np.int32)"
   ]
  },
  {
   "cell_type": "code",
   "execution_count": 74,
   "metadata": {},
   "outputs": [],
   "source": [
    "y_train = train[\"Target\"]\n",
    "y_test = test[\"Target\"]\n",
    "y_valid = valid[\"Target\"]"
   ]
  },
  {
   "cell_type": "code",
   "execution_count": 75,
   "metadata": {},
   "outputs": [
    {
     "data": {
      "text/plain": [
       "array([  0,   0,   0,   0,   0,   0,   0,   0,   0,   0,   0,   0,   0,\n",
       "         0,   0,   0,   0,   0,   0,   0,   0,   0,   0,   0,   0,   0,\n",
       "         0,   0,   0,   0,   0,   0,   0, 648,  19, 122, 190, 959, 959,\n",
       "       959], dtype=int32)"
      ]
     },
     "execution_count": 75,
     "metadata": {},
     "output_type": "execute_result"
    }
   ],
   "source": [
    "x_train[5]"
   ]
  },
  {
   "cell_type": "markdown",
   "metadata": {},
   "source": [
    "### Модели"
   ]
  },
  {
   "cell_type": "code",
   "execution_count": 76,
   "metadata": {},
   "outputs": [],
   "source": [
    "import tensorflow as tf\n",
    "import tensorflow.keras as k\n",
    "from tensorflow.keras.models import Sequential, Model\n",
    "from tensorflow.keras.layers import Dense, Dropout, Activation, Input, Embedding, Conv1D, GlobalMaxPool1D, SimpleRNN , LSTM, GRU, Masking\n",
    "from tensorflow.keras.preprocessing.text import Tokenizer\n",
    "from tensorflow.keras.preprocessing.sequence import pad_sequences\n",
    "from tensorflow.keras.callbacks import TensorBoard \n",
    "from tensorflow.keras.losses import binary_crossentropy, categorical_crossentropy\n",
    "from tensorflow.keras.callbacks import EarlyStopping "
   ]
  },
  {
   "cell_type": "code",
   "execution_count": 77,
   "metadata": {},
   "outputs": [],
   "source": [
    "epochs = 50\n",
    "batch_size = 512"
   ]
  },
  {
   "cell_type": "code",
   "execution_count": 78,
   "metadata": {},
   "outputs": [],
   "source": [
    "rnn_type = ['R', 'L', 'G']"
   ]
  },
  {
   "cell_type": "code",
   "execution_count": 79,
   "metadata": {},
   "outputs": [],
   "source": [
    "def plot_metrics(history):\n",
    "    \n",
    "    acc = history.history['accuracy']\n",
    "    val_acc = history.history['val_accuracy']\n",
    "    loss = history.history['loss']\n",
    "    val_loss = history.history['val_loss']\n",
    "\n",
    "    epochs = range(len(acc))\n",
    "\n",
    "    plt.plot(epochs, acc, 'b', label='Training acc')\n",
    "    plt.plot(epochs, val_acc, 'r', label='Validation acc')\n",
    "    plt.title('Training and validation accuracy')\n",
    "    plt.legend()\n",
    "\n",
    "    plt.figure()\n",
    "\n",
    "    plt.plot(epochs, loss, 'b', label='Training loss')\n",
    "    plt.plot(epochs, val_loss, 'r', label='Validation loss')\n",
    "    plt.title('Training and validation loss')\n",
    "    plt.legend()\n",
    "\n",
    "    plt.show()"
   ]
  },
  {
   "cell_type": "code",
   "execution_count": 80,
   "metadata": {},
   "outputs": [],
   "source": [
    "def make_rnn_layer(param):\n",
    "    if param == 'R':\n",
    "        layer = SimpleRNN(64)\n",
    "        print('\\n=== SimpleRNN ===\\n')\n",
    "    elif param == 'L':\n",
    "        layer = LSTM(64, recurrent_dropout=0.4)\n",
    "        print('\\n=== LSTM ===\\n')\n",
    "    elif param == 'G':\n",
    "        layer = GRU(64, recurrent_dropout=0.4)\n",
    "        print('\\n=== GRU ===\\n')    \n",
    "    else:\n",
    "        raise Exception('make_layer(param) -> param have to be in(\"R\", \"L\", \"G\")')\n",
    "    return layer "
   ]
  },
  {
   "cell_type": "code",
   "execution_count": 81,
   "metadata": {},
   "outputs": [],
   "source": [
    "def make_model(param : str) -> object:\n",
    "    model = Sequential()\n",
    "    model.add(Embedding(input_dim=max_words, output_dim=max_len, input_length=max_len, trainable=True, mask_zero=True))\n",
    "    model.add(Masking(mask_value=0.0))\n",
    "    model.add(make_rnn_layer(param))\n",
    "    model.add(Dense(64))\n",
    "    model.add(Activation(\"relu\"))\n",
    "    model.add(Dropout(0.5))\n",
    "    model.add(Dense(1))\n",
    "    model.add(Activation('sigmoid'))\n",
    "    \n",
    "    model.compile(loss='binary_crossentropy',\n",
    "              optimizer='adam',\n",
    "              metrics=['accuracy'])\n",
    "    return model"
   ]
  },
  {
   "cell_type": "code",
   "execution_count": 82,
   "metadata": {},
   "outputs": [],
   "source": [
    "def fit_model(model):\n",
    "    if not model:\n",
    "        return\n",
    "    model.summary()\n",
    "    \n",
    "    tensorboard=TensorBoard(log_dir='./logs', write_graph=True, write_images=True)\n",
    "    early_stopping=EarlyStopping(monitor='val_loss', patience=3, restore_best_weights = True)  \n",
    "\n",
    "    history = model.fit(x_train, y_train,\n",
    "                        batch_size=batch_size,\n",
    "                        epochs=epochs,\n",
    "                        verbose=1,\n",
    "                        validation_split=0.2,\n",
    "                        callbacks=[tensorboard, early_stopping])\n",
    "    return history\n",
    "    "
   ]
  },
  {
   "cell_type": "code",
   "execution_count": 83,
   "metadata": {},
   "outputs": [],
   "source": [
    "def test_model(model):\n",
    "    \n",
    "    score = model.evaluate(x_valid, y_valid, batch_size=batch_size, verbose=1)\n",
    "    print('\\n')\n",
    "    print('Validation score:', score[0])\n",
    "    print('Validation accuracy:', score[1])\n",
    "    \n",
    "    results = model.predict(x_test, batch_size=batch_size, verbose=1)\n",
    "    print(f'Test score: {round(roc_auc_score(y_test, results),3)}')\n",
    "    print('\\n'*3)\n",
    "    print('=='*30)"
   ]
  },
  {
   "cell_type": "code",
   "execution_count": 84,
   "metadata": {},
   "outputs": [
    {
     "name": "stdout",
     "output_type": "stream",
     "text": [
      "\n",
      "=== SimpleRNN ===\n",
      "\n",
      "Model: \"sequential_6\"\n",
      "_________________________________________________________________\n",
      "Layer (type)                 Output Shape              Param #   \n",
      "=================================================================\n",
      "embedding_6 (Embedding)      (None, 40, 40)            80000     \n",
      "_________________________________________________________________\n",
      "masking_6 (Masking)          (None, 40, 40)            0         \n",
      "_________________________________________________________________\n",
      "simple_rnn_2 (SimpleRNN)     (None, 64)                6720      \n",
      "_________________________________________________________________\n",
      "dense_12 (Dense)             (None, 64)                4160      \n",
      "_________________________________________________________________\n",
      "activation_12 (Activation)   (None, 64)                0         \n",
      "_________________________________________________________________\n",
      "dropout_6 (Dropout)          (None, 64)                0         \n",
      "_________________________________________________________________\n",
      "dense_13 (Dense)             (None, 1)                 65        \n",
      "_________________________________________________________________\n",
      "activation_13 (Activation)   (None, 1)                 0         \n",
      "=================================================================\n",
      "Total params: 90,945\n",
      "Trainable params: 90,945\n",
      "Non-trainable params: 0\n",
      "_________________________________________________________________\n",
      "Epoch 1/50\n",
      " 2/10 [=====>........................] - ETA: 8s - loss: 0.7233 - accuracy: 0.4385WARNING:tensorflow:Callbacks method `on_train_batch_end` is slow compared to the batch time (batch time: 0.0271s vs `on_train_batch_end` time: 2.0759s). Check your callbacks.\n",
      "10/10 [==============================] - 2s 249ms/step - loss: 0.5691 - accuracy: 0.7426 - val_loss: 0.4115 - val_accuracy: 0.8506\n",
      "Epoch 2/50\n",
      "10/10 [==============================] - 0s 25ms/step - loss: 0.3936 - accuracy: 0.8586 - val_loss: 0.3969 - val_accuracy: 0.8557\n",
      "Epoch 3/50\n",
      "10/10 [==============================] - 0s 24ms/step - loss: 0.3775 - accuracy: 0.8633 - val_loss: 0.3223 - val_accuracy: 0.8658\n",
      "Epoch 4/50\n",
      "10/10 [==============================] - 0s 24ms/step - loss: 0.3184 - accuracy: 0.8825 - val_loss: 0.3030 - val_accuracy: 0.8726\n",
      "Epoch 5/50\n",
      "10/10 [==============================] - 0s 24ms/step - loss: 0.2893 - accuracy: 0.8977 - val_loss: 0.2808 - val_accuracy: 0.8793\n",
      "Epoch 6/50\n",
      "10/10 [==============================] - 0s 24ms/step - loss: 0.2586 - accuracy: 0.9110 - val_loss: 0.2609 - val_accuracy: 0.8970\n",
      "Epoch 7/50\n",
      "10/10 [==============================] - 0s 24ms/step - loss: 0.2298 - accuracy: 0.9259 - val_loss: 0.2442 - val_accuracy: 0.8996\n",
      "Epoch 8/50\n",
      "10/10 [==============================] - 0s 24ms/step - loss: 0.1996 - accuracy: 0.9359 - val_loss: 0.2360 - val_accuracy: 0.8987\n",
      "Epoch 9/50\n",
      "10/10 [==============================] - 0s 24ms/step - loss: 0.1712 - accuracy: 0.9464 - val_loss: 0.2315 - val_accuracy: 0.8987\n",
      "Epoch 10/50\n",
      "10/10 [==============================] - 0s 24ms/step - loss: 0.1443 - accuracy: 0.9567 - val_loss: 0.2271 - val_accuracy: 0.9013\n",
      "Epoch 11/50\n",
      "10/10 [==============================] - 0s 23ms/step - loss: 0.1224 - accuracy: 0.9622 - val_loss: 0.2324 - val_accuracy: 0.9021\n",
      "Epoch 12/50\n",
      "10/10 [==============================] - 0s 24ms/step - loss: 0.1012 - accuracy: 0.9700 - val_loss: 0.2460 - val_accuracy: 0.9072\n",
      "Epoch 13/50\n",
      "10/10 [==============================] - 0s 24ms/step - loss: 0.0842 - accuracy: 0.9768 - val_loss: 0.2514 - val_accuracy: 0.9097\n"
     ]
    },
    {
     "data": {
      "image/png": "[encoded data removed]",
      "text/plain": [
       "<Figure size 432x288 with 1 Axes>"
      ]
     },
     "metadata": {
      "needs_background": "light"
     },
     "output_type": "display_data"
    },
    {
     "data": {
      "image/png": "[encoded data removed]",
      "text/plain": [
       "<Figure size 432x288 with 1 Axes>"
      ]
     },
     "metadata": {
      "needs_background": "light"
     },
     "output_type": "display_data"
    },
    {
     "name": "stdout",
     "output_type": "stream",
     "text": [
      "14/14 [==============================] - 0s 4ms/step - loss: 0.2352 - accuracy: 0.9023\n",
      "\n",
      "\n",
      "Validation score: 0.2351703941822052\n",
      "Validation accuracy: 0.90234375\n",
      "14/14 [==============================] - 0s 3ms/step\n",
      "Test score: 0.939\n",
      "\n",
      "\n",
      "\n",
      "\n",
      "============================================================\n",
      "WARNING:tensorflow:Layer lstm_2 will not use cuDNN kernel since it doesn't meet the cuDNN kernel criteria. It will use generic GPU kernel as fallback when running on GPU\n",
      "\n",
      "=== LSTM ===\n",
      "\n",
      "Model: \"sequential_7\"\n",
      "_________________________________________________________________\n",
      "Layer (type)                 Output Shape              Param #   \n",
      "=================================================================\n",
      "embedding_7 (Embedding)      (None, 40, 40)            80000     \n",
      "_________________________________________________________________\n",
      "masking_7 (Masking)          (None, 40, 40)            0         \n",
      "_________________________________________________________________\n",
      "lstm_2 (LSTM)                (None, 64)                26880     \n",
      "_________________________________________________________________\n",
      "dense_14 (Dense)             (None, 64)                4160      \n",
      "_________________________________________________________________\n",
      "activation_14 (Activation)   (None, 64)                0         \n",
      "_________________________________________________________________\n",
      "dropout_7 (Dropout)          (None, 64)                0         \n",
      "_________________________________________________________________\n",
      "dense_15 (Dense)             (None, 1)                 65        \n",
      "_________________________________________________________________\n",
      "activation_15 (Activation)   (None, 1)                 0         \n",
      "=================================================================\n",
      "Total params: 111,105\n",
      "Trainable params: 111,105\n",
      "Non-trainable params: 0\n",
      "_________________________________________________________________\n",
      "Epoch 1/50\n",
      " 2/10 [=====>........................] - ETA: 6s - loss: 0.6878 - accuracy: 0.7461WARNING:tensorflow:Callbacks method `on_train_batch_end` is slow compared to the batch time (batch time: 0.0846s vs `on_train_batch_end` time: 1.5028s). Check your callbacks.\n",
      "10/10 [==============================] - 3s 253ms/step - loss: 0.6526 - accuracy: 0.8198 - val_loss: 0.5473 - val_accuracy: 0.8506\n",
      "Epoch 2/50\n",
      "10/10 [==============================] - 1s 74ms/step - loss: 0.4636 - accuracy: 0.8460 - val_loss: 0.4103 - val_accuracy: 0.8506\n",
      "Epoch 3/50\n",
      "10/10 [==============================] - 1s 73ms/step - loss: 0.4026 - accuracy: 0.8460 - val_loss: 0.3759 - val_accuracy: 0.8506\n",
      "Epoch 4/50\n",
      "10/10 [==============================] - 1s 73ms/step - loss: 0.3673 - accuracy: 0.8466 - val_loss: 0.3278 - val_accuracy: 0.8532\n",
      "Epoch 5/50\n",
      "10/10 [==============================] - 1s 73ms/step - loss: 0.3138 - accuracy: 0.8664 - val_loss: 0.2807 - val_accuracy: 0.8734\n",
      "Epoch 6/50\n",
      "10/10 [==============================] - 1s 72ms/step - loss: 0.2738 - accuracy: 0.8981 - val_loss: 0.2506 - val_accuracy: 0.8911\n",
      "Epoch 7/50\n",
      "10/10 [==============================] - 1s 75ms/step - loss: 0.2398 - accuracy: 0.9069 - val_loss: 0.2326 - val_accuracy: 0.9030\n",
      "Epoch 8/50\n",
      "10/10 [==============================] - 1s 73ms/step - loss: 0.2051 - accuracy: 0.9217 - val_loss: 0.2247 - val_accuracy: 0.8996\n",
      "Epoch 9/50\n",
      "10/10 [==============================] - 1s 74ms/step - loss: 0.1796 - accuracy: 0.9318 - val_loss: 0.2153 - val_accuracy: 0.8962\n",
      "Epoch 10/50\n",
      "10/10 [==============================] - 1s 74ms/step - loss: 0.1555 - accuracy: 0.9432 - val_loss: 0.2153 - val_accuracy: 0.9046\n",
      "Epoch 11/50\n",
      "10/10 [==============================] - 1s 73ms/step - loss: 0.1370 - accuracy: 0.9532 - val_loss: 0.2261 - val_accuracy: 0.9089\n",
      "Epoch 12/50\n",
      "10/10 [==============================] - 1s 73ms/step - loss: 0.1208 - accuracy: 0.9576 - val_loss: 0.2366 - val_accuracy: 0.9097\n",
      "Epoch 13/50\n",
      "10/10 [==============================] - 1s 73ms/step - loss: 0.1055 - accuracy: 0.9652 - val_loss: 0.2422 - val_accuracy: 0.9105\n"
     ]
    },
    {
     "data": {
      "image/png": "[encoded data removed]",
      "text/plain": [
       "<Figure size 432x288 with 1 Axes>"
      ]
     },
     "metadata": {
      "needs_background": "light"
     },
     "output_type": "display_data"
    },
    {
     "data": {
      "image/png": "[encoded data removed]",
      "text/plain": [
       "<Figure size 432x288 with 1 Axes>"
      ]
     },
     "metadata": {
      "needs_background": "light"
     },
     "output_type": "display_data"
    },
    {
     "name": "stdout",
     "output_type": "stream",
     "text": [
      "14/14 [==============================] - 0s 10ms/step - loss: 0.2347 - accuracy: 0.8987\n",
      "\n",
      "\n",
      "Validation score: 0.2347085326910019\n",
      "Validation accuracy: 0.8987268805503845\n",
      "14/14 [==============================] - 0s 10ms/step\n",
      "Test score: 0.942\n",
      "\n",
      "\n",
      "\n",
      "\n",
      "============================================================\n",
      "WARNING:tensorflow:Layer gru_2 will not use cuDNN kernel since it doesn't meet the cuDNN kernel criteria. It will use generic GPU kernel as fallback when running on GPU\n",
      "\n",
      "=== GRU ===\n",
      "\n",
      "Model: \"sequential_8\"\n",
      "_________________________________________________________________\n",
      "Layer (type)                 Output Shape              Param #   \n",
      "=================================================================\n",
      "embedding_8 (Embedding)      (None, 40, 40)            80000     \n",
      "_________________________________________________________________\n",
      "masking_8 (Masking)          (None, 40, 40)            0         \n",
      "_________________________________________________________________\n",
      "gru_2 (GRU)                  (None, 64)                20352     \n",
      "_________________________________________________________________\n",
      "dense_16 (Dense)             (None, 64)                4160      \n",
      "_________________________________________________________________\n",
      "activation_16 (Activation)   (None, 64)                0         \n",
      "_________________________________________________________________\n",
      "dropout_8 (Dropout)          (None, 64)                0         \n",
      "_________________________________________________________________\n",
      "dense_17 (Dense)             (None, 1)                 65        \n",
      "_________________________________________________________________\n",
      "activation_17 (Activation)   (None, 1)                 0         \n",
      "=================================================================\n",
      "Total params: 104,577\n",
      "Trainable params: 104,577\n",
      "Non-trainable params: 0\n",
      "_________________________________________________________________\n",
      "Epoch 1/50\n",
      " 2/10 [=====>........................] - ETA: 4s - loss: 0.6898 - accuracy: 0.6426WARNING:tensorflow:Callbacks method `on_train_batch_end` is slow compared to the batch time (batch time: 0.0861s vs `on_train_batch_end` time: 1.0498s). Check your callbacks.\n",
      "10/10 [==============================] - 2s 211ms/step - loss: 0.6599 - accuracy: 0.8038 - val_loss: 0.5937 - val_accuracy: 0.8506\n",
      "Epoch 2/50\n",
      "10/10 [==============================] - 1s 66ms/step - loss: 0.5089 - accuracy: 0.8460 - val_loss: 0.3601 - val_accuracy: 0.8506\n",
      "Epoch 3/50\n",
      "10/10 [==============================] - 1s 65ms/step - loss: 0.3754 - accuracy: 0.8460 - val_loss: 0.3299 - val_accuracy: 0.8506\n",
      "Epoch 4/50\n",
      "10/10 [==============================] - 1s 64ms/step - loss: 0.3291 - accuracy: 0.8460 - val_loss: 0.3010 - val_accuracy: 0.8506\n",
      "Epoch 5/50\n",
      "10/10 [==============================] - 1s 65ms/step - loss: 0.2814 - accuracy: 0.8523 - val_loss: 0.2666 - val_accuracy: 0.8624\n",
      "Epoch 6/50\n",
      "10/10 [==============================] - 1s 65ms/step - loss: 0.2427 - accuracy: 0.8972 - val_loss: 0.2403 - val_accuracy: 0.8928\n",
      "Epoch 7/50\n",
      "10/10 [==============================] - 1s 65ms/step - loss: 0.2079 - accuracy: 0.9306 - val_loss: 0.2269 - val_accuracy: 0.8928\n",
      "Epoch 8/50\n",
      "10/10 [==============================] - 1s 64ms/step - loss: 0.1760 - accuracy: 0.9401 - val_loss: 0.2276 - val_accuracy: 0.8979\n",
      "Epoch 9/50\n",
      "10/10 [==============================] - 1s 65ms/step - loss: 0.1554 - accuracy: 0.9485 - val_loss: 0.2321 - val_accuracy: 0.8962\n",
      "Epoch 10/50\n",
      "10/10 [==============================] - 1s 65ms/step - loss: 0.1374 - accuracy: 0.9576 - val_loss: 0.2401 - val_accuracy: 0.9004\n"
     ]
    },
    {
     "data": {
      "image/png": "[encoded data removed]",
      "text/plain": [
       "<Figure size 432x288 with 1 Axes>"
      ]
     },
     "metadata": {
      "needs_background": "light"
     },
     "output_type": "display_data"
    },
    {
     "data": {
      "image/png": "[encoded data removed]",
      "text/plain": [
       "<Figure size 432x288 with 1 Axes>"
      ]
     },
     "metadata": {
      "needs_background": "light"
     },
     "output_type": "display_data"
    },
    {
     "name": "stdout",
     "output_type": "stream",
     "text": [
      "14/14 [==============================] - 0s 8ms/step - loss: 0.2495 - accuracy: 0.8902\n",
      "\n",
      "\n",
      "Validation score: 0.24945318698883057\n",
      "Validation accuracy: 0.8901909589767456\n",
      "14/14 [==============================] - 0s 8ms/step\n",
      "Test score: 0.925\n",
      "\n",
      "\n",
      "\n",
      "\n",
      "============================================================\n"
     ]
    }
   ],
   "source": [
    "for param in rnn_type:\n",
    "    model = make_model(param)\n",
    "    hist = fit_model(model)\n",
    "    plot_metrics(hist)\n",
    "    test_model(model)"
   ]
  },
  {
   "cell_type": "markdown",
   "metadata": {},
   "source": [
    "### Выводы"
   ]
  },
  {
   "cell_type": "markdown",
   "metadata": {},
   "source": [
    "Лучший результат показал LSTM, 2 место досталось SimpleRNN и на последнем GRU - при одинаковых параметрах сети. Стоит отметить что даже лучший результат LSTM оказался ниже чем результат CNN сети из прошлой темы.\n",
    "\n",
    "Видимо для каждой сети нужно подбирать индивидуальные настройки и конфигурацию."
   ]
  },
  {
   "cell_type": "code",
   "execution_count": null,
   "metadata": {},
   "outputs": [],
   "source": []
  }
 ],
 "metadata": {
  "kernelspec": {
   "display_name": "Python 3",
   "language": "python",
   "name": "python3"
  },
  "language_info": {
   "codemirror_mode": {
    "name": "ipython",
    "version": 3
   },
   "file_extension": ".py",
   "mimetype": "text/x-python",
   "name": "python",
   "nbconvert_exporter": "python",
   "pygments_lexer": "ipython3",
   "version": "3.8.2"
  }
 },
 "nbformat": 4,
 "nbformat_minor": 4
}
