{
 "cells": [
  {
   "cell_type": "markdown",
   "metadata": {
    "colab_type": "text",
    "id": "V8FsvOED8UlF"
   },
   "source": [
    "# HW_06 : Нейросети в обработке текста. \n",
    "> Рекуррентные нейронные сети. LSTM. GRU.\n",
    "\n",
    "Провести сравнение RNN, LSTM, GRU на датасете отзывов (из предыдущих занятий/материалов)\n"
   ]
  },
  {
   "cell_type": "code",
   "execution_count": 1,
   "metadata": {},
   "outputs": [],
   "source": [
    "import warnings\n",
    "warnings.filterwarnings(\"ignore\")"
   ]
  },
  {
   "cell_type": "code",
   "execution_count": 2,
   "metadata": {},
   "outputs": [],
   "source": [
    "from sklearn.feature_extraction.text import CountVectorizer, TfidfVectorizer\n",
    "import pandas as pd\n",
    "import numpy as np\n",
    "import matplotlib.pyplot as plt\n",
    "\n",
    "from tqdm import tqdm\n",
    "tqdm.pandas()\n",
    "\n",
    "from sklearn.model_selection import train_test_split\n",
    "from sklearn.metrics import roc_auc_score\n",
    "\n",
    "DATA_PATH = '../data/отзывы за лето.xls'"
   ]
  },
  {
   "cell_type": "markdown",
   "metadata": {},
   "source": [
    "<b>Настройка GPU</b>"
   ]
  },
  {
   "cell_type": "code",
   "execution_count": 3,
   "metadata": {},
   "outputs": [
    {
     "data": {
      "text/plain": [
       "[PhysicalDevice(name='/physical_device:GPU:1', device_type='GPU')]"
      ]
     },
     "execution_count": 3,
     "metadata": {},
     "output_type": "execute_result"
    }
   ],
   "source": [
    "import tensorflow as tf\n",
    "# кастомные настройки\n",
    "# установка GPU на котором будем работать\n",
    "gpus = tf.config.experimental.list_physical_devices('GPU')\n",
    "tf.config.set_visible_devices(gpus[1], 'GPU')\n",
    "tf.config.get_visible_devices('GPU')"
   ]
  },
  {
   "cell_type": "code",
   "execution_count": null,
   "metadata": {},
   "outputs": [],
   "source": []
  },
  {
   "cell_type": "code",
   "execution_count": 4,
   "metadata": {},
   "outputs": [],
   "source": [
    "# глобальные переменнные для предобработки\n",
    "max_words = 2000\n",
    "max_len = 40"
   ]
  },
  {
   "cell_type": "code",
   "execution_count": 5,
   "metadata": {},
   "outputs": [
    {
     "data": {
      "text/html": [
       "<div>\n",
       "<style scoped>\n",
       "    .dataframe tbody tr th:only-of-type {\n",
       "        vertical-align: middle;\n",
       "    }\n",
       "\n",
       "    .dataframe tbody tr th {\n",
       "        vertical-align: top;\n",
       "    }\n",
       "\n",
       "    .dataframe thead th {\n",
       "        text-align: right;\n",
       "    }\n",
       "</style>\n",
       "<table border=\"1\" class=\"dataframe\">\n",
       "  <thead>\n",
       "    <tr style=\"text-align: right;\">\n",
       "      <th></th>\n",
       "      <th>Rating</th>\n",
       "      <th>Content</th>\n",
       "      <th>Date</th>\n",
       "    </tr>\n",
       "  </thead>\n",
       "  <tbody>\n",
       "    <tr>\n",
       "      <th>0</th>\n",
       "      <td>5</td>\n",
       "      <td>It just works!</td>\n",
       "      <td>2017-08-14</td>\n",
       "    </tr>\n",
       "    <tr>\n",
       "      <th>1</th>\n",
       "      <td>4</td>\n",
       "      <td>В целом удобноное приложение...из минусов хотя...</td>\n",
       "      <td>2017-08-14</td>\n",
       "    </tr>\n",
       "    <tr>\n",
       "      <th>2</th>\n",
       "      <td>5</td>\n",
       "      <td>Отлично все</td>\n",
       "      <td>2017-08-14</td>\n",
       "    </tr>\n",
       "    <tr>\n",
       "      <th>3</th>\n",
       "      <td>5</td>\n",
       "      <td>Стал зависать на 1% работы антивируса. Дальше ...</td>\n",
       "      <td>2017-08-14</td>\n",
       "    </tr>\n",
       "    <tr>\n",
       "      <th>4</th>\n",
       "      <td>5</td>\n",
       "      <td>Очень удобно, работает быстро.</td>\n",
       "      <td>2017-08-14</td>\n",
       "    </tr>\n",
       "  </tbody>\n",
       "</table>\n",
       "</div>"
      ],
      "text/plain": [
       "   Rating                                            Content       Date\n",
       "0       5                                     It just works! 2017-08-14\n",
       "1       4  В целом удобноное приложение...из минусов хотя... 2017-08-14\n",
       "2       5                                        Отлично все 2017-08-14\n",
       "3       5  Стал зависать на 1% работы антивируса. Дальше ... 2017-08-14\n",
       "4       5                     Очень удобно, работает быстро. 2017-08-14"
      ]
     },
     "execution_count": 5,
     "metadata": {},
     "output_type": "execute_result"
    }
   ],
   "source": [
    "df = pd.read_excel(DATA_PATH, parse_dates=[2])\n",
    "df.head()"
   ]
  },
  {
   "cell_type": "markdown",
   "metadata": {},
   "source": [
    "### Бинарная классификация"
   ]
  },
  {
   "cell_type": "code",
   "execution_count": 6,
   "metadata": {},
   "outputs": [],
   "source": [
    "df_bin = df[df['Rating']!=3]"
   ]
  },
  {
   "cell_type": "code",
   "execution_count": 7,
   "metadata": {},
   "outputs": [],
   "source": [
    "df_bin['Target'] = (df['Rating']>3).astype('uint8')"
   ]
  },
  {
   "cell_type": "code",
   "execution_count": 8,
   "metadata": {},
   "outputs": [
    {
     "data": {
      "text/plain": [
       "1    0.846871\n",
       "0    0.153129\n",
       "Name: Target, dtype: float64"
      ]
     },
     "execution_count": 8,
     "metadata": {},
     "output_type": "execute_result"
    }
   ],
   "source": [
    "# распределение не очень, но рабочее\n",
    "df_bin.Target.value_counts(normalize=True)"
   ]
  },
  {
   "cell_type": "markdown",
   "metadata": {},
   "source": [
    "#### Препроцессинг"
   ]
  },
  {
   "cell_type": "code",
   "execution_count": 9,
   "metadata": {},
   "outputs": [],
   "source": [
    "from string import punctuation\n",
    "from stop_words import get_stop_words\n",
    "from pymorphy2 import MorphAnalyzer\n",
    "import re\n",
    "\n",
    "import nltk\n",
    "from nltk.tokenize import word_tokenize\n",
    "from nltk.probability import FreqDist"
   ]
  },
  {
   "cell_type": "code",
   "execution_count": 10,
   "metadata": {},
   "outputs": [],
   "source": [
    "sw = set(get_stop_words(\"ru\"))\n",
    "exclude = set(punctuation)\n",
    "morpher = MorphAnalyzer()\n",
    "\n",
    "def preprocess_text(txt):\n",
    "    txt = str(txt)\n",
    "    txt = \"\".join(c for c in txt if c not in exclude)\n",
    "    txt = txt.lower()\n",
    "    txt = re.sub(\"\\sне\", \"не\", txt)\n",
    "    txt = [morpher.parse(word)[0].normal_form for word in txt.split() if word not in sw]\n",
    "    return \" \".join(txt)\n",
    "\n",
    "df_bin['Content'] = df_bin['Content'].apply(preprocess_text)"
   ]
  },
  {
   "cell_type": "code",
   "execution_count": 11,
   "metadata": {},
   "outputs": [],
   "source": [
    "# разобьем датасет на трайн-валид-тест 70-15-15\n",
    "train, test = train_test_split(df_bin, test_size=0.7, shuffle=True, stratify = df_bin['Target'], random_state=42)\n",
    "valid, test = train_test_split(test, test_size=0.5, shuffle=True, random_state=42)"
   ]
  },
  {
   "cell_type": "code",
   "execution_count": 12,
   "metadata": {},
   "outputs": [],
   "source": [
    "train_corpus = \" \".join(train[\"Content\"])\n",
    "train_corpus = train_corpus.lower()"
   ]
  },
  {
   "cell_type": "code",
   "execution_count": 13,
   "metadata": {},
   "outputs": [],
   "source": [
    "tokens = word_tokenize(train_corpus)\n",
    "tokens_filtered = [word for word in tokens if word.isalnum()]"
   ]
  },
  {
   "cell_type": "code",
   "execution_count": 14,
   "metadata": {},
   "outputs": [],
   "source": [
    "# наиболее часто встречающиеся токены\n",
    "dist = FreqDist(tokens_filtered)\n",
    "tokens_filtered_top = [pair[0] for pair in dist.most_common(max_words-1)]"
   ]
  },
  {
   "cell_type": "code",
   "execution_count": 15,
   "metadata": {},
   "outputs": [],
   "source": [
    "vocabulary = {v: k for k, v in dict(enumerate(tokens_filtered_top, 1)).items()}"
   ]
  },
  {
   "cell_type": "code",
   "execution_count": 16,
   "metadata": {},
   "outputs": [],
   "source": [
    "def text_to_sequence(text, maxlen):\n",
    "    result = []\n",
    "    tokens = word_tokenize(text.lower())\n",
    "    tokens_filtered = [word for word in tokens if word.isalnum()]\n",
    "    for word in tokens_filtered:\n",
    "        if word in vocabulary:\n",
    "            result.append(vocabulary[word])\n",
    "    padding = [0]*(maxlen-len(result))\n",
    "    return padding + result[-maxlen:]"
   ]
  },
  {
   "cell_type": "code",
   "execution_count": 17,
   "metadata": {},
   "outputs": [],
   "source": [
    "x_train = np.asarray([text_to_sequence(text, max_len) for text in train[\"Content\"]], dtype=np.int32)\n",
    "x_test = np.asarray([text_to_sequence(text, max_len) for text in test[\"Content\"]], dtype=np.int32)\n",
    "x_valid = np.asarray([text_to_sequence(text, max_len) for text in valid[\"Content\"]], dtype=np.int32)"
   ]
  },
  {
   "cell_type": "code",
   "execution_count": 18,
   "metadata": {},
   "outputs": [],
   "source": [
    "y_train = train[\"Target\"]\n",
    "y_test = test[\"Target\"]\n",
    "y_valid = valid[\"Target\"]"
   ]
  },
  {
   "cell_type": "code",
   "execution_count": 19,
   "metadata": {},
   "outputs": [
    {
     "data": {
      "text/plain": [
       "array([  0,   0,   0,   0,   0,   0,   0,   0,   0,   0,   0,   0,   0,\n",
       "         0,   0,   0,   0,   0,   0,   0,   0,   0,   0,   0,   0,   0,\n",
       "         0,   0,   0,   0,   0,   0,   0, 648,  19, 122, 190, 959, 959,\n",
       "       959], dtype=int32)"
      ]
     },
     "execution_count": 19,
     "metadata": {},
     "output_type": "execute_result"
    }
   ],
   "source": [
    "x_train[5]"
   ]
  },
  {
   "cell_type": "markdown",
   "metadata": {},
   "source": [
    "### Модели"
   ]
  },
  {
   "cell_type": "code",
   "execution_count": 20,
   "metadata": {},
   "outputs": [],
   "source": [
    "import tensorflow as tf\n",
    "import tensorflow.keras as k\n",
    "from tensorflow.keras.models import Sequential, Model\n",
    "from tensorflow.keras.layers import Dense, Dropout, Activation, Input, Embedding, Conv1D, GlobalMaxPool1D, SimpleRNN , LSTM, GRU, Masking\n",
    "from tensorflow.keras.preprocessing.text import Tokenizer\n",
    "from tensorflow.keras.preprocessing.sequence import pad_sequences\n",
    "from tensorflow.keras.callbacks import TensorBoard \n",
    "from tensorflow.keras.losses import binary_crossentropy, categorical_crossentropy\n",
    "from tensorflow.keras.callbacks import EarlyStopping "
   ]
  },
  {
   "cell_type": "code",
   "execution_count": 21,
   "metadata": {},
   "outputs": [],
   "source": [
    "epochs = 50\n",
    "batch_size = 512"
   ]
  },
  {
   "cell_type": "code",
   "execution_count": 22,
   "metadata": {},
   "outputs": [],
   "source": [
    "rnn_type = ['R', 'L', 'G']"
   ]
  },
  {
   "cell_type": "code",
   "execution_count": 23,
   "metadata": {},
   "outputs": [],
   "source": [
    "def plot_metrics(history):\n",
    "    \n",
    "    acc = history.history['accuracy']\n",
    "    val_acc = history.history['val_accuracy']\n",
    "    loss = history.history['loss']\n",
    "    val_loss = history.history['val_loss']\n",
    "\n",
    "    epochs = range(len(acc))\n",
    "\n",
    "    plt.plot(epochs, acc, 'b', label='Training acc')\n",
    "    plt.plot(epochs, val_acc, 'r', label='Validation acc')\n",
    "    plt.title('Training and validation accuracy')\n",
    "    plt.legend()\n",
    "\n",
    "    plt.figure()\n",
    "\n",
    "    plt.plot(epochs, loss, 'b', label='Training loss')\n",
    "    plt.plot(epochs, val_loss, 'r', label='Validation loss')\n",
    "    plt.title('Training and validation loss')\n",
    "    plt.legend()\n",
    "\n",
    "    plt.show()"
   ]
  },
  {
   "cell_type": "code",
   "execution_count": 24,
   "metadata": {},
   "outputs": [],
   "source": [
    "def make_rnn_layer(param):\n",
    "    if param == 'R':\n",
    "        layer = SimpleRNN(128)\n",
    "        print('\\n=== SimpleRNN ===\\n')\n",
    "    elif param == 'L':\n",
    "        layer = LSTM(128, recurrent_dropout=0.4)\n",
    "        print('\\n=== LSTM ===\\n')\n",
    "    elif param == 'G':\n",
    "        layer = GRU(128, recurrent_dropout=0.4)\n",
    "        print('\\n=== GRU ===\\n')    \n",
    "    else:\n",
    "        raise Exception('make_layer(param) -> param have to be in(\"R\", \"L\", \"G\")')\n",
    "    return layer "
   ]
  },
  {
   "cell_type": "code",
   "execution_count": 25,
   "metadata": {},
   "outputs": [],
   "source": [
    "def make_model(param : str) -> object:\n",
    "    model = Sequential()\n",
    "    model.add(Embedding(input_dim=max_words, output_dim=max_len, input_length=max_len, trainable=True, mask_zero=True))\n",
    "    model.add(Masking(mask_value=0.0))\n",
    "    model.add(make_rnn_layer(param))\n",
    "    model.add(Dense(128))\n",
    "    model.add(Activation(\"relu\"))\n",
    "    model.add(Dropout(0.4))\n",
    "    model.add(Dense(1))\n",
    "    model.add(Activation('sigmoid'))\n",
    "    \n",
    "    model.compile(loss='binary_crossentropy',\n",
    "              optimizer='adam',\n",
    "              metrics=['accuracy'])\n",
    "    return model"
   ]
  },
  {
   "cell_type": "code",
   "execution_count": 26,
   "metadata": {},
   "outputs": [],
   "source": [
    "def fit_model(model):\n",
    "    if not model:\n",
    "        return\n",
    "    model.summary()\n",
    "    \n",
    "    tensorboard=TensorBoard(log_dir='./logs', write_graph=True, write_images=True)\n",
    "    early_stopping=EarlyStopping(monitor='val_loss', patience=3, restore_best_weights = True)  \n",
    "\n",
    "    history = model.fit(x_train, y_train,\n",
    "                        batch_size=batch_size,\n",
    "                        epochs=epochs,\n",
    "                        verbose=1,\n",
    "                        validation_split=0.1,\n",
    "                        callbacks=[tensorboard, early_stopping])\n",
    "    return history\n",
    "    "
   ]
  },
  {
   "cell_type": "code",
   "execution_count": 27,
   "metadata": {},
   "outputs": [],
   "source": [
    "def test_model(model):\n",
    "    \n",
    "    score = model.evaluate(x_valid, y_valid, batch_size=batch_size, verbose=1)\n",
    "    print('\\n')\n",
    "    print('Validation loss:', score[0])\n",
    "    print('Validation accuracy:', score[1])\n",
    "    \n",
    "    results = model.predict(x_test, batch_size=batch_size, verbose=1)\n",
    "    print(f'Test ROC-AUC: {round(roc_auc_score(y_test, results),3)}')\n",
    "    print('\\n'*3)\n",
    "    print('=='*30)"
   ]
  },
  {
   "cell_type": "code",
   "execution_count": 28,
   "metadata": {},
   "outputs": [
    {
     "name": "stdout",
     "output_type": "stream",
     "text": [
      "\n",
      "=== SimpleRNN ===\n",
      "\n",
      "Model: \"sequential\"\n",
      "_________________________________________________________________\n",
      "Layer (type)                 Output Shape              Param #   \n",
      "=================================================================\n",
      "embedding (Embedding)        (None, 40, 40)            80000     \n",
      "_________________________________________________________________\n",
      "masking (Masking)            (None, 40, 40)            0         \n",
      "_________________________________________________________________\n",
      "simple_rnn (SimpleRNN)       (None, 128)               21632     \n",
      "_________________________________________________________________\n",
      "dense (Dense)                (None, 128)               16512     \n",
      "_________________________________________________________________\n",
      "activation (Activation)      (None, 128)               0         \n",
      "_________________________________________________________________\n",
      "dropout (Dropout)            (None, 128)               0         \n",
      "_________________________________________________________________\n",
      "dense_1 (Dense)              (None, 1)                 129       \n",
      "_________________________________________________________________\n",
      "activation_1 (Activation)    (None, 1)                 0         \n",
      "=================================================================\n",
      "Total params: 118,273\n",
      "Trainable params: 118,273\n",
      "Non-trainable params: 0\n",
      "_________________________________________________________________\n",
      "Epoch 1/50\n",
      " 1/11 [=>............................] - ETA: 0s - loss: 0.8070 - accuracy: 0.1562WARNING:tensorflow:From /mnt/develop/_DS_/_env_/lib/python3.8/site-packages/tensorflow/python/ops/summary_ops_v2.py:1277: stop (from tensorflow.python.eager.profiler) is deprecated and will be removed after 2020-07-01.\n",
      "Instructions for updating:\n",
      "use `tf.profiler.experimental.stop` instead.\n",
      " 2/11 [====>.........................] - ETA: 5s - loss: 0.7393 - accuracy: 0.3984WARNING:tensorflow:Callbacks method `on_train_batch_end` is slow compared to the batch time (batch time: 0.0278s vs `on_train_batch_end` time: 1.2982s). Check your callbacks.\n",
      "11/11 [==============================] - 2s 166ms/step - loss: 0.5171 - accuracy: 0.7593 - val_loss: 0.4084 - val_accuracy: 0.8668\n",
      "Epoch 2/50\n",
      "11/11 [==============================] - 0s 24ms/step - loss: 0.3889 - accuracy: 0.8546 - val_loss: 0.3260 - val_accuracy: 0.8769\n",
      "Epoch 3/50\n",
      "11/11 [==============================] - 0s 23ms/step - loss: 0.3188 - accuracy: 0.8738 - val_loss: 0.3035 - val_accuracy: 0.8702\n",
      "Epoch 4/50\n",
      "11/11 [==============================] - 0s 23ms/step - loss: 0.2891 - accuracy: 0.8858 - val_loss: 0.2740 - val_accuracy: 0.8938\n",
      "Epoch 5/50\n",
      "11/11 [==============================] - 0s 24ms/step - loss: 0.2461 - accuracy: 0.9066 - val_loss: 0.2497 - val_accuracy: 0.8938\n",
      "Epoch 6/50\n",
      "11/11 [==============================] - 0s 24ms/step - loss: 0.2070 - accuracy: 0.9253 - val_loss: 0.2382 - val_accuracy: 0.8954\n",
      "Epoch 7/50\n",
      "11/11 [==============================] - 0s 23ms/step - loss: 0.1707 - accuracy: 0.9392 - val_loss: 0.2272 - val_accuracy: 0.8954\n",
      "Epoch 8/50\n",
      "11/11 [==============================] - 0s 23ms/step - loss: 0.1443 - accuracy: 0.9484 - val_loss: 0.2275 - val_accuracy: 0.9073\n",
      "Epoch 9/50\n",
      "11/11 [==============================] - 0s 24ms/step - loss: 0.1174 - accuracy: 0.9606 - val_loss: 0.2330 - val_accuracy: 0.8988\n",
      "Epoch 10/50\n",
      "11/11 [==============================] - 0s 23ms/step - loss: 0.0956 - accuracy: 0.9689 - val_loss: 0.2401 - val_accuracy: 0.9039\n"
     ]
    },
    {
     "data": {
      "image/png": "[encoded data removed]",
      "text/plain": [
       "<Figure size 432x288 with 1 Axes>"
      ]
     },
     "metadata": {
      "needs_background": "light"
     },
     "output_type": "display_data"
    },
    {
     "data": {
      "image/png": "[encoded data removed]",
      "text/plain": [
       "<Figure size 432x288 with 1 Axes>"
      ]
     },
     "metadata": {
      "needs_background": "light"
     },
     "output_type": "display_data"
    },
    {
     "name": "stdout",
     "output_type": "stream",
     "text": [
      "14/14 [==============================] - 0s 4ms/step - loss: 0.2403 - accuracy: 0.9036\n",
      "\n",
      "\n",
      "Validation loss: 0.2402636855840683\n",
      "Validation accuracy: 0.9036458134651184\n",
      "14/14 [==============================] - 0s 3ms/step\n",
      "Test ROC-AUC: 0.939\n",
      "\n",
      "\n",
      "\n",
      "\n",
      "============================================================\n",
      "WARNING:tensorflow:Layer lstm will not use cuDNN kernel since it doesn't meet the cuDNN kernel criteria. It will use generic GPU kernel as fallback when running on GPU\n",
      "\n",
      "=== LSTM ===\n",
      "\n",
      "Model: \"sequential_1\"\n",
      "_________________________________________________________________\n",
      "Layer (type)                 Output Shape              Param #   \n",
      "=================================================================\n",
      "embedding_1 (Embedding)      (None, 40, 40)            80000     \n",
      "_________________________________________________________________\n",
      "masking_1 (Masking)          (None, 40, 40)            0         \n",
      "_________________________________________________________________\n",
      "lstm (LSTM)                  (None, 128)               86528     \n",
      "_________________________________________________________________\n",
      "dense_2 (Dense)              (None, 128)               16512     \n",
      "_________________________________________________________________\n",
      "activation_2 (Activation)    (None, 128)               0         \n",
      "_________________________________________________________________\n",
      "dropout_1 (Dropout)          (None, 128)               0         \n",
      "_________________________________________________________________\n",
      "dense_3 (Dense)              (None, 1)                 129       \n",
      "_________________________________________________________________\n",
      "activation_3 (Activation)    (None, 1)                 0         \n",
      "=================================================================\n",
      "Total params: 183,169\n",
      "Trainable params: 183,169\n",
      "Non-trainable params: 0\n",
      "_________________________________________________________________\n",
      "Epoch 1/50\n",
      " 2/11 [====>.........................] - ETA: 6s - loss: 0.6837 - accuracy: 0.7598WARNING:tensorflow:Callbacks method `on_train_batch_end` is slow compared to the batch time (batch time: 0.1050s vs `on_train_batch_end` time: 1.2855s). Check your callbacks.\n",
      "11/11 [==============================] - 2s 214ms/step - loss: 0.5643 - accuracy: 0.8321 - val_loss: 0.4083 - val_accuracy: 0.8668\n",
      "Epoch 2/50\n",
      "11/11 [==============================] - 1s 74ms/step - loss: 0.4021 - accuracy: 0.8447 - val_loss: 0.3457 - val_accuracy: 0.8668\n",
      "Epoch 3/50\n",
      "11/11 [==============================] - 1s 75ms/step - loss: 0.3497 - accuracy: 0.8449 - val_loss: 0.3138 - val_accuracy: 0.8668\n",
      "Epoch 4/50\n",
      "11/11 [==============================] - 1s 74ms/step - loss: 0.2960 - accuracy: 0.8717 - val_loss: 0.2686 - val_accuracy: 0.8786\n",
      "Epoch 5/50\n",
      "11/11 [==============================] - 1s 74ms/step - loss: 0.2512 - accuracy: 0.9056 - val_loss: 0.2390 - val_accuracy: 0.8938\n",
      "Epoch 6/50\n",
      "11/11 [==============================] - 1s 74ms/step - loss: 0.2075 - accuracy: 0.9165 - val_loss: 0.2278 - val_accuracy: 0.8971\n",
      "Epoch 7/50\n",
      "11/11 [==============================] - 1s 74ms/step - loss: 0.1762 - accuracy: 0.9300 - val_loss: 0.2117 - val_accuracy: 0.9005\n",
      "Epoch 8/50\n",
      "11/11 [==============================] - 1s 73ms/step - loss: 0.1498 - accuracy: 0.9418 - val_loss: 0.2142 - val_accuracy: 0.9073\n",
      "Epoch 9/50\n",
      "11/11 [==============================] - 1s 75ms/step - loss: 0.1329 - accuracy: 0.9525 - val_loss: 0.2192 - val_accuracy: 0.9089\n",
      "Epoch 10/50\n",
      "11/11 [==============================] - 1s 74ms/step - loss: 0.1182 - accuracy: 0.9570 - val_loss: 0.2226 - val_accuracy: 0.9106\n"
     ]
    },
    {
     "data": {
      "image/png": "[encoded data removed]",
      "text/plain": [
       "<Figure size 432x288 with 1 Axes>"
      ]
     },
     "metadata": {
      "needs_background": "light"
     },
     "output_type": "display_data"
    },
    {
     "data": {
      "image/png": "[encoded data removed]",
      "text/plain": [
       "<Figure size 432x288 with 1 Axes>"
      ]
     },
     "metadata": {
      "needs_background": "light"
     },
     "output_type": "display_data"
    },
    {
     "name": "stdout",
     "output_type": "stream",
     "text": [
      "14/14 [==============================] - 0s 11ms/step - loss: 0.2277 - accuracy: 0.9002\n",
      "\n",
      "\n",
      "Validation loss: 0.22769691050052643\n",
      "Validation accuracy: 0.9001736044883728\n",
      "14/14 [==============================] - 0s 10ms/step\n",
      "Test ROC-AUC: 0.941\n",
      "\n",
      "\n",
      "\n",
      "\n",
      "============================================================\n",
      "WARNING:tensorflow:Layer gru will not use cuDNN kernel since it doesn't meet the cuDNN kernel criteria. It will use generic GPU kernel as fallback when running on GPU\n",
      "\n",
      "=== GRU ===\n",
      "\n",
      "Model: \"sequential_2\"\n",
      "_________________________________________________________________\n",
      "Layer (type)                 Output Shape              Param #   \n",
      "=================================================================\n",
      "embedding_2 (Embedding)      (None, 40, 40)            80000     \n",
      "_________________________________________________________________\n",
      "masking_2 (Masking)          (None, 40, 40)            0         \n",
      "_________________________________________________________________\n",
      "gru (GRU)                    (None, 128)               65280     \n",
      "_________________________________________________________________\n",
      "dense_4 (Dense)              (None, 128)               16512     \n",
      "_________________________________________________________________\n",
      "activation_4 (Activation)    (None, 128)               0         \n",
      "_________________________________________________________________\n",
      "dropout_2 (Dropout)          (None, 128)               0         \n",
      "_________________________________________________________________\n",
      "dense_5 (Dense)              (None, 1)                 129       \n",
      "_________________________________________________________________\n",
      "activation_5 (Activation)    (None, 1)                 0         \n",
      "=================================================================\n",
      "Total params: 161,921\n",
      "Trainable params: 161,921\n",
      "Non-trainable params: 0\n",
      "_________________________________________________________________\n",
      "Epoch 1/50\n",
      " 2/11 [====>.........................] - ETA: 6s - loss: 0.6926 - accuracy: 0.5234WARNING:tensorflow:Callbacks method `on_train_batch_end` is slow compared to the batch time (batch time: 0.0912s vs `on_train_batch_end` time: 1.2587s). Check your callbacks.\n",
      "11/11 [==============================] - 2s 209ms/step - loss: 0.6390 - accuracy: 0.7826 - val_loss: 0.4878 - val_accuracy: 0.8668\n",
      "Epoch 2/50\n",
      "11/11 [==============================] - 1s 65ms/step - loss: 0.4016 - accuracy: 0.8447 - val_loss: 0.3270 - val_accuracy: 0.8668\n",
      "Epoch 3/50\n",
      "11/11 [==============================] - 1s 65ms/step - loss: 0.3262 - accuracy: 0.8447 - val_loss: 0.2814 - val_accuracy: 0.8668\n",
      "Epoch 4/50\n",
      "11/11 [==============================] - 1s 66ms/step - loss: 0.2628 - accuracy: 0.8653 - val_loss: 0.2447 - val_accuracy: 0.8887\n",
      "Epoch 5/50\n",
      "11/11 [==============================] - 1s 66ms/step - loss: 0.2160 - accuracy: 0.9242 - val_loss: 0.2309 - val_accuracy: 0.8887\n",
      "Epoch 6/50\n",
      "11/11 [==============================] - 1s 65ms/step - loss: 0.1786 - accuracy: 0.9343 - val_loss: 0.2326 - val_accuracy: 0.9106\n",
      "Epoch 7/50\n",
      "11/11 [==============================] - 1s 65ms/step - loss: 0.1551 - accuracy: 0.9435 - val_loss: 0.2288 - val_accuracy: 0.9073\n",
      "Epoch 8/50\n",
      "11/11 [==============================] - 1s 65ms/step - loss: 0.1338 - accuracy: 0.9522 - val_loss: 0.2327 - val_accuracy: 0.9106\n",
      "Epoch 9/50\n",
      "11/11 [==============================] - 1s 65ms/step - loss: 0.1163 - accuracy: 0.9612 - val_loss: 0.2517 - val_accuracy: 0.9073\n",
      "Epoch 10/50\n",
      "11/11 [==============================] - 1s 65ms/step - loss: 0.1002 - accuracy: 0.9683 - val_loss: 0.2667 - val_accuracy: 0.9073\n"
     ]
    },
    {
     "data": {
      "image/png": "[encoded data removed]",
      "text/plain": [
       "<Figure size 432x288 with 1 Axes>"
      ]
     },
     "metadata": {
      "needs_background": "light"
     },
     "output_type": "display_data"
    },
    {
     "data": {
      "image/png": "[encoded data removed]",
      "text/plain": [
       "<Figure size 432x288 with 1 Axes>"
      ]
     },
     "metadata": {
      "needs_background": "light"
     },
     "output_type": "display_data"
    },
    {
     "name": "stdout",
     "output_type": "stream",
     "text": [
      "14/14 [==============================] - 0s 8ms/step - loss: 0.2532 - accuracy: 0.8957\n",
      "\n",
      "\n",
      "Validation loss: 0.2532080411911011\n",
      "Validation accuracy: 0.8956886529922485\n",
      "14/14 [==============================] - 0s 8ms/step\n",
      "Test ROC-AUC: 0.936\n",
      "\n",
      "\n",
      "\n",
      "\n",
      "============================================================\n"
     ]
    }
   ],
   "source": [
    "for param in rnn_type:\n",
    "    model = make_model(param)\n",
    "    hist = fit_model(model)\n",
    "    plot_metrics(hist)\n",
    "    test_model(model)"
   ]
  },
  {
   "cell_type": "markdown",
   "metadata": {},
   "source": [
    "### Выводы"
   ]
  },
  {
   "cell_type": "markdown",
   "metadata": {},
   "source": [
    "Лучший результат показал LSTM, 2 место досталось SimpleRNN и на последнем GRU - при одинаковых параметрах сети. Стоит отметить что даже лучший результат LSTM оказался ниже чем результат CNN сети из прошлой темы.\n",
    "\n",
    "Видимо для каждой сети нужно подбирать индивидуальные настройки и конфигурацию."
   ]
  },
  {
   "cell_type": "code",
   "execution_count": null,
   "metadata": {},
   "outputs": [],
   "source": []
  }
 ],
 "metadata": {
  "kernelspec": {
   "display_name": "Python 3",
   "language": "python",
   "name": "python3"
  },
  "language_info": {
   "codemirror_mode": {
    "name": "ipython",
    "version": 3
   },
   "file_extension": ".py",
   "mimetype": "text/x-python",
   "name": "python",
   "nbconvert_exporter": "python",
   "pygments_lexer": "ipython3",
   "version": "3.8.2"
  }
 },
 "nbformat": 4,
 "nbformat_minor": 4
}
